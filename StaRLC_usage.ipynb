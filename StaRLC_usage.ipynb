{
 "cells": [
  {
   "cell_type": "markdown",
   "metadata": {},
   "source": [
    "### Intro to starclass and RLC usage \n",
    "#### Updated 01/03/2022\n",
    "## Setup\n",
    "First off, I keep both <code>starclass.py</code> & <code>RLC.py</code> in a <code>\"modules\"</code> subfolder, all <code>\"catalog_with_astrobase_periods_addon_q05.csv\"</code>'s in a separate <code>\"astrobase_out\"</code> subfolder, and all raw light curve data within a ___zipped___ archive <code>\"TFA-20210902T000721Z-001.zip\"</code> (to conserve memory and storage), downloadable from the Q05 TFA LC folders in the Google Drive under a <code>\"TFA_LCS\"</code> subfolder. Unsurprisingly, directories will need to be changed in the .py files according to the specific locations you want to pull from. Additionally, internal functions (e.g. loading star .rlc file data) is based around string formatting to correctly source data, so be sure the formatting is compatible with local files. Please note that creation of the stardict was initially built to load __three__ quarters but I have since changed it to deal with a __single__ quarter, specifically quarter 5. Finally, if exporting data, create an empty folder (i.e. <code>\"features/\"</code> for the files to be stored in. Below is a diagram of the file locations:<br>\n",
    "__Root:__ <code>StaRLC_usage.ipynb</code><br>\n",
    "- <code>\"modules/\"</code>\n",
    " - <code>\"starclass.py\"</code>\n",
    " - <code>\"RLC.py\"</code>\n",
    "- <code>\"astrobase_out/\"</code>\n",
    " - <code>\"catalog_with_astrobase_periods_addon_q05.csv\"</code>\n",
    "- <code>\"TFA_LCS/\"</code>\n",
    " - <code>\"TFA-20210902T000721Z-001.zip\"</code><br>\n",
    "- <code>\"features/\"</code>"
   ]
  },
  {
   "cell_type": "markdown",
   "metadata": {},
   "source": [
    "With the necessary paths  changed in the .py files, we can begin by importing the two modules, pandas, and numpy:"
   ]
  },
  {
   "cell_type": "code",
   "execution_count": 1,
   "metadata": {
    "collapsed": false
   },
   "outputs": [
    {
     "ename": "ImportError",
     "evalue": "No module named 'modules'",
     "output_type": "error",
     "traceback": [
      "\u001b[1;31m---------------------------------------------------------------------------\u001b[0m",
      "\u001b[1;31mImportError\u001b[0m                               Traceback (most recent call last)",
      "\u001b[1;32m<ipython-input-1-f3c2bdfe31e6>\u001b[0m in \u001b[0;36m<module>\u001b[1;34m()\u001b[0m\n\u001b[1;32m----> 1\u001b[1;33m \u001b[1;32mfrom\u001b[0m \u001b[0mmodules\u001b[0m\u001b[1;33m.\u001b[0m\u001b[0mstarclass\u001b[0m \u001b[1;32mimport\u001b[0m \u001b[0mMakeStardict\u001b[0m\u001b[1;33m\u001b[0m\u001b[0m\n\u001b[0m\u001b[0;32m      2\u001b[0m \u001b[1;32mfrom\u001b[0m \u001b[0mmodules\u001b[0m\u001b[1;33m.\u001b[0m\u001b[0mRLC\u001b[0m \u001b[1;32mimport\u001b[0m \u001b[0mRLC\u001b[0m\u001b[1;33m\u001b[0m\u001b[0m\n\u001b[0;32m      3\u001b[0m \u001b[1;33m\u001b[0m\u001b[0m\n\u001b[0;32m      4\u001b[0m \u001b[1;32mimport\u001b[0m \u001b[0mpandas\u001b[0m \u001b[1;32mas\u001b[0m \u001b[0mpd\u001b[0m\u001b[1;33m\u001b[0m\u001b[0m\n\u001b[0;32m      5\u001b[0m \u001b[1;32mimport\u001b[0m \u001b[0mnumpy\u001b[0m \u001b[1;32mas\u001b[0m \u001b[0mnp\u001b[0m\u001b[1;33m\u001b[0m\u001b[0m\n",
      "\u001b[1;31mImportError\u001b[0m: No module named 'modules'"
     ]
    }
   ],
   "source": [
    "from modules.starclass import MakeStardict\n",
    "from modules.RLC import RLC\n",
    "\n",
    "import pandas as pd\n",
    "import numpy as np"
   ]
  },
  {
   "cell_type": "markdown",
   "metadata": {},
   "source": [
    "## Building a stardict\n",
    "### Crash Course Under-the-Hood\n",
    "__To build a stardict, call MakeStardict with either a _list of Gaia IDs to create Star and RLC objects for_ or _None to create objects for all Gaia IDs available (not recommended for testing)_.__ <br>\n",
    "Running MakeStardict first loads in the star catalog containing star data (Gaia ID, RA, Dec, magnitudes, and colors) from the <code>\"catalog_with_astrobase_periods_addon_q05.csv\"</code> file. After the general star data is pulled, it calculates three color values and sets a generator function to find neighbor IDs when called. Creating Star objects then initializes an RLC object from the provided Gaia ID and attempts to find a .rlc file in the zip archive of detrended data. __If no matching .rlc file is located, RLC time, magnitude, and error data will be defined as None, and no further attributes will be defined for the object__, and the rest of this notebook will cover cases of existing .rlc files. For stars with an existing RLC file, RLC data will be loaded before automatically running periodograms, searching for nonperiodic features, and checking for periodogram features\\*. For stars with RLC data, the <code>analyze_period</code> method can be called with a period to generate phase-folded feature and fit data.\n",
    "_*The GLS and Stellingwerf algorithms are compatible with each other in this function, but the BLS results had to be separated. Please see RLC.py comments for more details on this._\n",
    "### StaRLC Data Structures\n",
    "The core of these two modules are the Star and RLC objects. A fully defined Star object and RLC object has atrributes: <br>\n",
    "- <code>Star.ID</code> _(dtype: str)_ Gaia ID,<br>\n",
    "- <code>Star.ra</code> _(dtype: float)_ Right-ascension (decimal),<br>\n",
    "- <code>Star.dec</code> _(dtype: float)_ Declination (decimal),<br>\n",
    "- <code>Star.Gaia_mag</code> _(dtype: float)_ Average Gaia magnitude,<br>\n",
    "- <code>Star.BP_mag</code> _(dtype: float)_ Average Vega BP magnitude,<br>\n",
    "- <code>Star.color_BP_RP</code> _(dtype: float)_ Color: BP-RP,<br>\n",
    "- <code>Star.color_BP_G</code> _(dtype: float)_ Color: BP-G,<br>\n",
    "- <code>Star.color_G_RP</code> _(dtype: float)_ Color: G-RP,<br>\n",
    "- <code>Star.inrad</code> _(dtype: generator object)_ Call <code>next(Star.inrad)</code> to list all neighbor Gaia IDs within a 0.0125 degree radius of this star ascending by distance ___(internal method___<code>Star.\\_\\_inrad__()</code> ___yields a sorted pandas index including includes this Star, index 1 is the nearest neighbor)___'\n",
    "- <code>Star.RLC</code> _(dtype: RLC object)_ RLC object more below:<br>\n",
    "    - <code>RLC.time</code> _(dtype: np.ndarray or None)_ Array of time data,<br>\n",
    "    - <code>RLC.mag</code> _(dtype: np.ndarray or None)_ Array of magnitude data,<br>\n",
    "    - <code>RLC.err</code> _(dtype: np.ndarray or None)_ Array of magnitude error data,<br>\n",
    "___If no RLC file is found, the following RLC attributes will not be defined.___<br>\n",
    "    - <code>RLC.nonperiodic_feats</code> _(dtype: dict)_ Dictionary of the astrobase nonperiodic features function omitting arrays,<br>\n",
    "    - <code>RLC.GLS</code> _(dtype: dict)_ Results of Lomb-Scargle periodogram,<br>\n",
    "    - <code>RLC.BLS</code> _(dtype: dict)_ Results of box-least square periodogram,<br>\n",
    "    - <code>RLC.Stwf</code> _(dtype: dict)_ Results of Stellingwerf periodogram,<br>\n",
    "    - <code>RLC.BLS_feats</code> _(dtype: dict)_ Periodogram features for BLS,<br>\n",
    "    - <code>RLC.GLS_Stwf_feats</code> _(dtype: dict)_ Periodogram features of GLS and Stellingwerf algorithms (I couldn't find a way to resolve the value error from looking through documentation or otherwise)<br>\n",
    "    - <code>RLC.analyze_period(period)</code> _(Method - returns dict)_ Returns flat dictionary detailing phased and fitted LC features with respect to the provided period<br>\n",
    "- <code>Star.export_features(pos_data=True, mags=True, colors=True, neighbors=False, nonper_data=True)</code> _(Method - returns dict)_ Returns dictionary of dictionaries compiling the calculated features and other stellar parameters"
   ]
  },
  {
   "cell_type": "markdown",
   "metadata": {},
   "source": [
    "Calling and providing MakeStardict with Star and RLC objects for WOCS 63060, a rotator/pulsator, and a detached EB:"
   ]
  },
  {
   "cell_type": "code",
   "execution_count": 2,
   "metadata": {
    "collapsed": false
   },
   "outputs": [
    {
     "ename": "NameError",
     "evalue": "name 'MakeStardict' is not defined",
     "output_type": "error",
     "traceback": [
      "\u001b[1;31m---------------------------------------------------------------------------\u001b[0m",
      "\u001b[1;31mNameError\u001b[0m                                 Traceback (most recent call last)",
      "\u001b[1;32m<ipython-input-2-4754dfc016ec>\u001b[0m in \u001b[0;36m<module>\u001b[1;34m()\u001b[0m\n\u001b[1;32m----> 1\u001b[1;33m \u001b[0mget_ipython\u001b[0m\u001b[1;33m(\u001b[0m\u001b[1;33m)\u001b[0m\u001b[1;33m.\u001b[0m\u001b[0mrun_cell_magic\u001b[0m\u001b[1;33m(\u001b[0m\u001b[1;34m'time'\u001b[0m\u001b[1;33m,\u001b[0m \u001b[1;34m''\u001b[0m\u001b[1;33m,\u001b[0m \u001b[1;34m\"# stardict=MakeStardict(['2051105479535706752', '2051287139470009088', '2051288372119626368'])\\nstardict=MakeStardict(['2051105479535706752'])\"\u001b[0m\u001b[1;33m)\u001b[0m\u001b[1;33m\u001b[0m\u001b[0m\n\u001b[0m",
      "\u001b[1;32m/home/evanbauer55/anaconda3/lib/python3.5/site-packages/IPython/core/interactiveshell.py\u001b[0m in \u001b[0;36mrun_cell_magic\u001b[1;34m(self, magic_name, line, cell)\u001b[0m\n\u001b[0;32m   2118\u001b[0m             \u001b[0mmagic_arg_s\u001b[0m \u001b[1;33m=\u001b[0m \u001b[0mself\u001b[0m\u001b[1;33m.\u001b[0m\u001b[0mvar_expand\u001b[0m\u001b[1;33m(\u001b[0m\u001b[0mline\u001b[0m\u001b[1;33m,\u001b[0m \u001b[0mstack_depth\u001b[0m\u001b[1;33m)\u001b[0m\u001b[1;33m\u001b[0m\u001b[0m\n\u001b[0;32m   2119\u001b[0m             \u001b[1;32mwith\u001b[0m \u001b[0mself\u001b[0m\u001b[1;33m.\u001b[0m\u001b[0mbuiltin_trap\u001b[0m\u001b[1;33m:\u001b[0m\u001b[1;33m\u001b[0m\u001b[0m\n\u001b[1;32m-> 2120\u001b[1;33m                 \u001b[0mresult\u001b[0m \u001b[1;33m=\u001b[0m \u001b[0mfn\u001b[0m\u001b[1;33m(\u001b[0m\u001b[0mmagic_arg_s\u001b[0m\u001b[1;33m,\u001b[0m \u001b[0mcell\u001b[0m\u001b[1;33m)\u001b[0m\u001b[1;33m\u001b[0m\u001b[0m\n\u001b[0m\u001b[0;32m   2121\u001b[0m             \u001b[1;32mreturn\u001b[0m \u001b[0mresult\u001b[0m\u001b[1;33m\u001b[0m\u001b[0m\n\u001b[0;32m   2122\u001b[0m \u001b[1;33m\u001b[0m\u001b[0m\n",
      "\u001b[1;32m<decorator-gen-60>\u001b[0m in \u001b[0;36mtime\u001b[1;34m(self, line, cell, local_ns)\u001b[0m\n",
      "\u001b[1;32m/home/evanbauer55/anaconda3/lib/python3.5/site-packages/IPython/core/magic.py\u001b[0m in \u001b[0;36m<lambda>\u001b[1;34m(f, *a, **k)\u001b[0m\n\u001b[0;32m    191\u001b[0m     \u001b[1;31m# but it's overkill for just that one bit of state.\u001b[0m\u001b[1;33m\u001b[0m\u001b[1;33m\u001b[0m\u001b[0m\n\u001b[0;32m    192\u001b[0m     \u001b[1;32mdef\u001b[0m \u001b[0mmagic_deco\u001b[0m\u001b[1;33m(\u001b[0m\u001b[0marg\u001b[0m\u001b[1;33m)\u001b[0m\u001b[1;33m:\u001b[0m\u001b[1;33m\u001b[0m\u001b[0m\n\u001b[1;32m--> 193\u001b[1;33m         \u001b[0mcall\u001b[0m \u001b[1;33m=\u001b[0m \u001b[1;32mlambda\u001b[0m \u001b[0mf\u001b[0m\u001b[1;33m,\u001b[0m \u001b[1;33m*\u001b[0m\u001b[0ma\u001b[0m\u001b[1;33m,\u001b[0m \u001b[1;33m**\u001b[0m\u001b[0mk\u001b[0m\u001b[1;33m:\u001b[0m \u001b[0mf\u001b[0m\u001b[1;33m(\u001b[0m\u001b[1;33m*\u001b[0m\u001b[0ma\u001b[0m\u001b[1;33m,\u001b[0m \u001b[1;33m**\u001b[0m\u001b[0mk\u001b[0m\u001b[1;33m)\u001b[0m\u001b[1;33m\u001b[0m\u001b[0m\n\u001b[0m\u001b[0;32m    194\u001b[0m \u001b[1;33m\u001b[0m\u001b[0m\n\u001b[0;32m    195\u001b[0m         \u001b[1;32mif\u001b[0m \u001b[0mcallable\u001b[0m\u001b[1;33m(\u001b[0m\u001b[0marg\u001b[0m\u001b[1;33m)\u001b[0m\u001b[1;33m:\u001b[0m\u001b[1;33m\u001b[0m\u001b[0m\n",
      "\u001b[1;32m/home/evanbauer55/anaconda3/lib/python3.5/site-packages/IPython/core/magics/execution.py\u001b[0m in \u001b[0;36mtime\u001b[1;34m(self, line, cell, local_ns)\u001b[0m\n\u001b[0;32m   1175\u001b[0m         \u001b[1;32melse\u001b[0m\u001b[1;33m:\u001b[0m\u001b[1;33m\u001b[0m\u001b[0m\n\u001b[0;32m   1176\u001b[0m             \u001b[0mst\u001b[0m \u001b[1;33m=\u001b[0m \u001b[0mclock2\u001b[0m\u001b[1;33m(\u001b[0m\u001b[1;33m)\u001b[0m\u001b[1;33m\u001b[0m\u001b[0m\n\u001b[1;32m-> 1177\u001b[1;33m             \u001b[0mexec\u001b[0m\u001b[1;33m(\u001b[0m\u001b[0mcode\u001b[0m\u001b[1;33m,\u001b[0m \u001b[0mglob\u001b[0m\u001b[1;33m,\u001b[0m \u001b[0mlocal_ns\u001b[0m\u001b[1;33m)\u001b[0m\u001b[1;33m\u001b[0m\u001b[0m\n\u001b[0m\u001b[0;32m   1178\u001b[0m             \u001b[0mend\u001b[0m \u001b[1;33m=\u001b[0m \u001b[0mclock2\u001b[0m\u001b[1;33m(\u001b[0m\u001b[1;33m)\u001b[0m\u001b[1;33m\u001b[0m\u001b[0m\n\u001b[0;32m   1179\u001b[0m             \u001b[0mout\u001b[0m \u001b[1;33m=\u001b[0m \u001b[1;32mNone\u001b[0m\u001b[1;33m\u001b[0m\u001b[0m\n",
      "\u001b[1;32m<timed exec>\u001b[0m in \u001b[0;36m<module>\u001b[1;34m()\u001b[0m\n",
      "\u001b[1;31mNameError\u001b[0m: name 'MakeStardict' is not defined"
     ]
    }
   ],
   "source": [
    "%%time\n",
    "# stardict=MakeStardict(['2051105479535706752', '2051287139470009088', '2051288372119626368'])\n",
    "stardict=MakeStardict(['2051105479535706752'])"
   ]
  },
  {
   "cell_type": "markdown",
   "metadata": {},
   "source": [
    "## Usage Examples\n",
    "With our newly defined stardict, let's key stardict for the infamous WOCS 63060, print some general information about it, and then display all defined attributes:"
   ]
  },
  {
   "cell_type": "code",
   "execution_count": 3,
   "metadata": {
    "collapsed": false
   },
   "outputs": [
    {
     "ename": "NameError",
     "evalue": "name 'stardict' is not defined",
     "output_type": "error",
     "traceback": [
      "\u001b[1;31m---------------------------------------------------------------------------\u001b[0m",
      "\u001b[1;31mNameError\u001b[0m                                 Traceback (most recent call last)",
      "\u001b[1;32m<ipython-input-3-10bf2fd40009>\u001b[0m in \u001b[0;36m<module>\u001b[1;34m()\u001b[0m\n\u001b[1;32m----> 1\u001b[1;33m \u001b[0mprint\u001b[0m\u001b[1;33m(\u001b[0m\u001b[0mstardict\u001b[0m\u001b[1;33m[\u001b[0m\u001b[1;34m'2051105479535706752'\u001b[0m\u001b[1;33m]\u001b[0m\u001b[1;33m)\u001b[0m\u001b[1;33m\u001b[0m\u001b[0m\n\u001b[0m\u001b[0;32m      2\u001b[0m \u001b[0mvars\u001b[0m\u001b[1;33m(\u001b[0m\u001b[0mstardict\u001b[0m\u001b[1;33m[\u001b[0m\u001b[1;34m'2051105479535706752'\u001b[0m\u001b[1;33m]\u001b[0m\u001b[1;33m)\u001b[0m\u001b[1;33m\u001b[0m\u001b[0m\n",
      "\u001b[1;31mNameError\u001b[0m: name 'stardict' is not defined"
     ]
    }
   ],
   "source": [
    "print(stardict['2051105479535706752'])\n",
    "vars(stardict['2051105479535706752'])"
   ]
  },
  {
   "cell_type": "markdown",
   "metadata": {},
   "source": [
    "With the availability of RLC data for WOCS 63060, all raw RLC data, nonperiodic features, results of periodogram algorithms, and combined periodogram features are defined and contained within the RLC attribute of the Star object. Let's take a quick gander at a complete RLC object's attributes:"
   ]
  },
  {
   "cell_type": "code",
   "execution_count": 4,
   "metadata": {
    "collapsed": false
   },
   "outputs": [
    {
     "ename": "NameError",
     "evalue": "name 'stardict' is not defined",
     "output_type": "error",
     "traceback": [
      "\u001b[1;31m---------------------------------------------------------------------------\u001b[0m",
      "\u001b[1;31mNameError\u001b[0m                                 Traceback (most recent call last)",
      "\u001b[1;32m<ipython-input-4-79d6a35dd845>\u001b[0m in \u001b[0;36m<module>\u001b[1;34m()\u001b[0m\n\u001b[1;32m----> 1\u001b[1;33m \u001b[0mprint\u001b[0m\u001b[1;33m(\u001b[0m\u001b[0mstardict\u001b[0m\u001b[1;33m[\u001b[0m\u001b[1;34m'2051105479535706752'\u001b[0m\u001b[1;33m]\u001b[0m\u001b[1;33m.\u001b[0m\u001b[0mRLC\u001b[0m\u001b[1;33m)\u001b[0m\u001b[1;33m\u001b[0m\u001b[0m\n\u001b[0m\u001b[0;32m      2\u001b[0m \u001b[0mvars\u001b[0m\u001b[1;33m(\u001b[0m\u001b[0mstardict\u001b[0m\u001b[1;33m[\u001b[0m\u001b[1;34m'2051105479535706752'\u001b[0m\u001b[1;33m]\u001b[0m\u001b[1;33m.\u001b[0m\u001b[0mRLC\u001b[0m\u001b[1;33m)\u001b[0m\u001b[1;33m\u001b[0m\u001b[0m\n",
      "\u001b[1;31mNameError\u001b[0m: name 'stardict' is not defined"
     ]
    }
   ],
   "source": [
    "print(stardict['2051105479535706752'].RLC)\n",
    "vars(stardict['2051105479535706752'].RLC)"
   ]
  },
  {
   "cell_type": "markdown",
   "metadata": {},
   "source": [
    "Let's analyze each of the best BLS, GLS, and Stellingwerf periods and print the analysis results:"
   ]
  },
  {
   "cell_type": "code",
   "execution_count": 5,
   "metadata": {
    "collapsed": false,
    "scrolled": true
   },
   "outputs": [
    {
     "ename": "NameError",
     "evalue": "name 'stardict' is not defined",
     "output_type": "error",
     "traceback": [
      "\u001b[1;31m---------------------------------------------------------------------------\u001b[0m",
      "\u001b[1;31mNameError\u001b[0m                                 Traceback (most recent call last)",
      "\u001b[1;32m<ipython-input-5-394fc32cfc31>\u001b[0m in \u001b[0;36m<module>\u001b[1;34m()\u001b[0m\n\u001b[1;32m----> 1\u001b[1;33m \u001b[0mwocs_63060\u001b[0m\u001b[1;33m=\u001b[0m\u001b[0mstardict\u001b[0m\u001b[1;33m[\u001b[0m\u001b[1;34m'2051105479535706752'\u001b[0m\u001b[1;33m]\u001b[0m\u001b[1;33m\u001b[0m\u001b[0m\n\u001b[0m\u001b[0;32m      2\u001b[0m \u001b[1;32mfor\u001b[0m \u001b[0mbest\u001b[0m \u001b[1;32min\u001b[0m \u001b[1;33m[\u001b[0m\u001b[0mwocs_63060\u001b[0m\u001b[1;33m.\u001b[0m\u001b[0mRLC\u001b[0m\u001b[1;33m.\u001b[0m\u001b[0mGLS\u001b[0m\u001b[1;33m,\u001b[0m \u001b[0mwocs_63060\u001b[0m\u001b[1;33m.\u001b[0m\u001b[0mRLC\u001b[0m\u001b[1;33m.\u001b[0m\u001b[0mStwf\u001b[0m\u001b[1;33m,\u001b[0m \u001b[0mwocs_63060\u001b[0m\u001b[1;33m.\u001b[0m\u001b[0mRLC\u001b[0m\u001b[1;33m.\u001b[0m\u001b[0mBLS\u001b[0m\u001b[1;33m]\u001b[0m\u001b[1;33m:\u001b[0m\u001b[1;33m\u001b[0m\u001b[0m\n\u001b[0;32m      3\u001b[0m     \u001b[0mprint\u001b[0m\u001b[1;33m(\u001b[0m\u001b[0mwocs_63060\u001b[0m\u001b[1;33m.\u001b[0m\u001b[0mRLC\u001b[0m\u001b[1;33m.\u001b[0m\u001b[0manalyze_period\u001b[0m\u001b[1;33m(\u001b[0m\u001b[0mbest\u001b[0m\u001b[1;33m[\u001b[0m\u001b[1;34m'bestperiod'\u001b[0m\u001b[1;33m]\u001b[0m\u001b[1;33m)\u001b[0m\u001b[1;33m)\u001b[0m\u001b[1;33m\u001b[0m\u001b[0m\n",
      "\u001b[1;31mNameError\u001b[0m: name 'stardict' is not defined"
     ]
    }
   ],
   "source": [
    "wocs_63060=stardict['2051105479535706752']\n",
    "for best in [wocs_63060.RLC.GLS, wocs_63060.RLC.Stwf, wocs_63060.RLC.BLS]:\n",
    "    print(wocs_63060.RLC.analyze_period(best['bestperiod']))"
   ]
  },
  {
   "cell_type": "markdown",
   "metadata": {},
   "source": [
    "__Note:__ the dictionary returned by <code>RLC.analyze_period</code> ___only___ contains the analyzed period, and the results of the two periodic feature analyses from astrobase. To view nonperiodic features we can request the attribute from the RLC object:"
   ]
  },
  {
   "cell_type": "code",
   "execution_count": 6,
   "metadata": {
    "collapsed": false
   },
   "outputs": [
    {
     "ename": "NameError",
     "evalue": "name 'wocs_63060' is not defined",
     "output_type": "error",
     "traceback": [
      "\u001b[1;31m---------------------------------------------------------------------------\u001b[0m",
      "\u001b[1;31mNameError\u001b[0m                                 Traceback (most recent call last)",
      "\u001b[1;32m<ipython-input-6-c27d0a167dec>\u001b[0m in \u001b[0;36m<module>\u001b[1;34m()\u001b[0m\n\u001b[1;32m----> 1\u001b[1;33m \u001b[0mwocs_63060\u001b[0m\u001b[1;33m.\u001b[0m\u001b[0mRLC\u001b[0m\u001b[1;33m.\u001b[0m\u001b[0mnonperiodic_feats\u001b[0m\u001b[1;33m\u001b[0m\u001b[0m\n\u001b[0m",
      "\u001b[1;31mNameError\u001b[0m: name 'wocs_63060' is not defined"
     ]
    }
   ],
   "source": [
    "wocs_63060.RLC.nonperiodic_feats"
   ]
  },
  {
   "cell_type": "markdown",
   "metadata": {},
   "source": [
    "Similarly, we can directly access the results of any of the periodogram algorithms run:"
   ]
  },
  {
   "cell_type": "code",
   "execution_count": 7,
   "metadata": {
    "collapsed": false
   },
   "outputs": [
    {
     "data": {
      "text/plain": [
       "{'bestperiod': 0.7232568175965727,\n",
       " 'bestlspval': 0.0022862207155785073,\n",
       " 'nbestpeaks': 3,\n",
       " 'nbestlspvals': [0.0022862207155785073,\n",
       "  0.0017773305459861596,\n",
       "  0.0016532705431525291],\n",
       " 'nbestperiods': [0.7232568175965727, 1.446434238504079, 2.890431587000283],\n",
       " 'lspvals': array([0.00041692, 0.00040709, 0.00036966, ..., 0.00012153, 0.00012424,\n",
       "        0.0001589 ]),\n",
       " 'frequencies': array([ 0.05      ,  0.05002668,  0.05005337, ..., 23.80944475,\n",
       "        23.80947143, 23.80949812]),\n",
       " 'periods': array([20.        , 19.98933245, 19.97867627, ...,  0.04200014,\n",
       "         0.04200009,  0.04200005]),\n",
       " 'blsresult': [{'power': array([0.00041692, 0.00040709, 0.00036966, ..., 0.00010594, 0.00010037,\n",
       "          0.00010365]),\n",
       "   'bestperiod': 0.7232568175965727,\n",
       "   'bestpower': 0.0022862207155785073,\n",
       "   'transdepth': 0.004650078717658983,\n",
       "   'transduration': 0.4090150250417362,\n",
       "   'transingressbin': 52,\n",
       "   'transegressbin': 133},\n",
       "  {'power': array([0.00011619, 0.00010679, 0.00011058, ..., 0.00012153, 0.00012424,\n",
       "          0.0001589 ]),\n",
       "   'bestperiod': 0.042057595461007756,\n",
       "   'bestpower': 0.0014114726918788996,\n",
       "   'transdepth': 0.0035327957822705934,\n",
       "   'transduration': 0.19937991891247317,\n",
       "   'transingressbin': 134,\n",
       "   'transegressbin': 173}],\n",
       " 'stepsize': 2.668311349543813e-05,\n",
       " 'nfreq': 890433,\n",
       " 'nphasebins': 200,\n",
       " 'mintransitduration': 0.01,\n",
       " 'maxtransitduration': 0.4,\n",
       " 'method': 'bls',\n",
       " 'kwargs': {'startp': 0.042,\n",
       "  'endp': 20.0,\n",
       "  'stepsize': 2.668311349543813e-05,\n",
       "  'mintransitduration': 0.01,\n",
       "  'maxtransitduration': 0.4,\n",
       "  'nphasebins': 200,\n",
       "  'autofreq': True,\n",
       "  'periodepsilon': 0.1,\n",
       "  'nbestpeaks': 3,\n",
       "  'sigclip': 5.0,\n",
       "  'magsarefluxes': False},\n",
       " 'stats': [{'period': 4.859980113264598,\n",
       "   'epoch': 444.79193511694655,\n",
       "   'snr': 1.417889129258335e-08,\n",
       "   'transitdepth': -3.1925322361789814e-11,\n",
       "   'transitduration': 0.0005863973145703646,\n",
       "   'ingressduration': 0.4944985138343129,\n",
       "   'npoints_in_transit': 3,\n",
       "   'fitparams': array([ 4.85998011e+00,  4.44791935e+02, -3.19253224e-11,  5.86397315e-04,\n",
       "           4.94498514e-01]),\n",
       "   'fiterrs': array([0.00000000e+00, 2.05511946e+07, 1.19269858e+01, 0.00000000e+00,\n",
       "          0.00000000e+00]),\n",
       "   'fit_status': 'ok',\n",
       "   'nphasebins': 200,\n",
       "   'transingressbin': 52,\n",
       "   'transegressbin': 133,\n",
       "   'blsmodel': array([15.58328682, 15.58328682, 15.58328682, ..., 15.58328682,\n",
       "          15.58328682, 15.58328682]),\n",
       "   'subtractedmags': array([-0.00179828, -0.00587759,  0.00090354, ...,  0.00609784,\n",
       "          -0.00357656, -0.00125927]),\n",
       "   'phasedmags': array([15.58148854, 15.57740923, 15.58419035, ..., 15.58938466,\n",
       "          15.57971026, 15.58202755]),\n",
       "   'phases': array([6.24511463e-04, 6.49215043e-04, 1.23307238e-03, ...,\n",
       "          9.99853708e-01, 9.99914345e-01, 9.99949460e-01]),\n",
       "   'fitinfo': {'fittype': 'traptransit',\n",
       "    'fitinfo': {'initialparams': [0.7232515444429922,\n",
       "      473.20192932133057,\n",
       "      -0.004650129707682668,\n",
       "      0.4090150250417362,\n",
       "      0.040901502504173626],\n",
       "     'finalparams': array([ 4.85998011e+00,  4.44791935e+02, -3.19253224e-11,  5.86397315e-04,\n",
       "             4.94498514e-01]),\n",
       "     'finalparamerrs': array([0.00000000e+00, 2.05511946e+07, 1.19269858e+01, 0.00000000e+00,\n",
       "            0.00000000e+00]),\n",
       "     'fitmags': array([15.58328682, 15.58328682, 15.58328682, ..., 15.58328682,\n",
       "            15.58328682, 15.58328682]),\n",
       "     'fitepoch': 444.79193511694655,\n",
       "     'ntransitpoints': 3},\n",
       "    'fitchisq': 139.9559117694476,\n",
       "    'fitredchisq': 0.033418317041415374,\n",
       "    'fitplotfile': None,\n",
       "    'magseries': {'phase': array([6.24511463e-04, 6.49215043e-04, 1.23307238e-03, ...,\n",
       "            9.99853708e-01, 9.99914345e-01, 9.99949460e-01]),\n",
       "     'times': array([498.25475148, 527.41475221, 444.79792782, ..., 464.23114459,\n",
       "            493.39131997, 522.5513713 ]),\n",
       "     'mags': array([15.58148854, 15.57740923, 15.58419035, ..., 15.58938466,\n",
       "            15.57971026, 15.58202755]),\n",
       "     'errs': array([0.01409, 0.13573, 0.01737, ..., 0.02293, 0.01259, 0.05991]),\n",
       "     'magsarefluxes': False}}},\n",
       "  {'period': 1.4465211466901031,\n",
       "   'epoch': 490.91901784641806,\n",
       "   'snr': 21.161086701603313,\n",
       "   'transitdepth': -0.0025939778218723427,\n",
       "   'transitduration': 0.2247795225204866,\n",
       "   'ingressduration': 0.08266388062009018,\n",
       "   'npoints_in_transit': 944,\n",
       "   'fitparams': array([ 1.44652115e+00,  4.90919018e+02, -2.59397782e-03,  2.24779523e-01,\n",
       "           8.26638806e-02]),\n",
       "   'fiterrs': array([0.00046924, 0.00796166, 0.00025473, 0.018928  , 0.01812663]),\n",
       "   'fit_status': 'ok',\n",
       "   'nphasebins': 200,\n",
       "   'transingressbin': 175,\n",
       "   'transegressbin': 18,\n",
       "   'blsmodel': array([15.5858808, 15.5858808, 15.5858808, ..., 15.5858808, 15.5858808,\n",
       "          15.5858808]),\n",
       "   'subtractedmags': array([ 0.00245731,  0.00103426, -0.00215523, ..., -0.00199128,\n",
       "           0.00213522,  0.00505582]),\n",
       "   'phasedmags': array([15.58833811, 15.58691505, 15.58372557, ..., 15.58388951,\n",
       "          15.58801601, 15.59093662]),\n",
       "   'phases': array([1.82958321e-04, 2.19130713e-04, 6.60291876e-04, ...,\n",
       "          9.99355629e-01, 9.99364148e-01, 9.99803449e-01]),\n",
       "   'fitinfo': {'fittype': 'traptransit',\n",
       "    'fitinfo': {'initialparams': [1.446402998605569,\n",
       "      490.9187335313037,\n",
       "      -0.004274215251431467,\n",
       "      0.2222752206057715,\n",
       "      0.022227522060577154],\n",
       "     'finalparams': array([ 1.44652115e+00,  4.90919018e+02, -2.59397782e-03,  2.24779523e-01,\n",
       "             8.26638806e-02]),\n",
       "     'finalparamerrs': array([0.00046924, 0.00796166, 0.00025473, 0.018928  , 0.01812663]),\n",
       "     'fitmags': array([15.5858808, 15.5858808, 15.5858808, ..., 15.5858808, 15.5858808,\n",
       "            15.5858808]),\n",
       "     'fitepoch': 490.91901784641806,\n",
       "     'ntransitpoints': 944},\n",
       "    'fitchisq': 133.3262320317035,\n",
       "    'fitredchisq': 0.03183529895694926,\n",
       "    'fitplotfile': None,\n",
       "    'magseries': {'phase': array([1.82958321e-04, 2.19130713e-04, 6.60291876e-04, ...,\n",
       "            9.99355629e-01, 9.99364148e-01, 9.99803449e-01]),\n",
       "     'times': array([518.40318429, 470.66803877, 498.15257871, ..., 511.1693818 ,\n",
       "            463.43419629, 490.91873353]),\n",
       "     'mags': array([15.58833811, 15.58691505, 15.58372557, ..., 15.58388951,\n",
       "            15.58801601, 15.59093662]),\n",
       "     'errs': array([0.0495 , 0.02501, 0.01644, ..., 0.03641, 0.02177, 0.01535]),\n",
       "     'magsarefluxes': False}}},\n",
       "  {'period': 2.895034813275474,\n",
       "   'epoch': 488.7730097346033,\n",
       "   'snr': 16.86854054272264,\n",
       "   'transitdepth': -0.002807428887709081,\n",
       "   'transitduration': 0.12297455258285434,\n",
       "   'ingressduration': 0.03336115176698037,\n",
       "   'npoints_in_transit': 526,\n",
       "   'fitparams': array([ 2.89503481e+00,  4.88773010e+02, -2.80742889e-03,  1.22974553e-01,\n",
       "           3.33611518e-02]),\n",
       "   'fiterrs': array([0.001126  , 0.00883948, 0.00025544, 0.01097957, 0.00979326]),\n",
       "   'fit_status': 'ok',\n",
       "   'nphasebins': 200,\n",
       "   'transingressbin': 189,\n",
       "   'transegressbin': 10,\n",
       "   'blsmodel': array([15.58609425, 15.58609425, 15.58609425, ..., 15.58609425,\n",
       "          15.58609425, 15.58609425]),\n",
       "   'subtractedmags': array([ 0.00199508,  0.0009747 , -0.0032122 , ..., -0.00106201,\n",
       "          -0.00204351,  0.00397169]),\n",
       "   'phasedmags': array([15.58808933, 15.58706895, 15.58288205, ..., 15.58503224,\n",
       "          15.58405074, 15.59006594]),\n",
       "   'phases': array([3.11460483e-05, 1.67299096e-04, 3.05148259e-04, ...,\n",
       "          9.99596394e-01, 9.99748490e-01, 9.99892525e-01]),\n",
       "   'fitinfo': {'fittype': 'traptransit',\n",
       "    'fitinfo': {'initialparams': [2.8908135369790506,\n",
       "      488.7322307943977,\n",
       "      -0.00529192272394521,\n",
       "      0.10994514667302648,\n",
       "      0.010994514667302648],\n",
       "     'finalparams': array([ 2.89503481e+00,  4.88773010e+02, -2.80742889e-03,  1.22974553e-01,\n",
       "             3.33611518e-02]),\n",
       "     'finalparamerrs': array([0.001126  , 0.00883948, 0.00025544, 0.01097957, 0.00979326]),\n",
       "     'fitmags': array([15.58609425, 15.58609425, 15.58609425, ..., 15.58609425,\n",
       "            15.58609425, 15.58609425]),\n",
       "     'fitepoch': 488.7730097346033,\n",
       "     'ntransitpoints': 526},\n",
       "    'fitchisq': 134.47410665224703,\n",
       "    'fitredchisq': 0.032109385542561375,\n",
       "    'fitplotfile': None,\n",
       "    'magseries': {'phase': array([3.11460483e-05, 1.67299096e-04, 3.05148259e-04, ...,\n",
       "            9.99596394e-01, 9.99748490e-01, 9.99892525e-01]),\n",
       "     'times': array([488.7730999 , 480.08838963, 471.40368427, ..., 514.8271546 ,\n",
       "            506.14249048, 497.45780303]),\n",
       "     'mags': array([15.58808933, 15.58706895, 15.58288205, ..., 15.58503224,\n",
       "            15.58405074, 15.59006594]),\n",
       "     'errs': array([0.0176 , 0.02479, 0.02497, ..., 0.04214, 0.02603, 0.01338]),\n",
       "     'magsarefluxes': False}}}],\n",
       " 'nbestpeakratios': [array([441.05475282]), array([710.80925192]), nan],\n",
       " 'siderealflags': [True, False, False]}"
      ]
     },
     "execution_count": 7,
     "metadata": {},
     "output_type": "execute_result"
    }
   ],
   "source": [
    "wocs_63060.RLC.BLS"
   ]
  },
  {
   "cell_type": "markdown",
   "metadata": {},
   "source": [
    "Taking a peak at the (self-including) list of sources within 0.0125 degrees of WOCS 63060:"
   ]
  },
  {
   "cell_type": "code",
   "execution_count": 8,
   "metadata": {
    "collapsed": false,
    "scrolled": false
   },
   "outputs": [
    {
     "data": {
      "text/plain": [
       "Index(['2051105479535706752', '2051105479536285184', '2051105479530880768',\n",
       "       '2051105479535709312', '2051105479535709568', '2051105479535700864',\n",
       "       '2051105479535704960', '2051105479530856192', '2051105475245084928',\n",
       "       '2051105479535704192', '2051105479535697024', '2051105475236399744',\n",
       "       '2051105479535695232', '2051105479530849920', '2051105479535993344',\n",
       "       '2051105479535697152', '2051105475236402560', '2051105475239023232',\n",
       "       '2051105479530829184', '2051105509596145408', '2051105475236399232',\n",
       "       '2051105509596144256', '2051105513890642176', '2051105479531687808',\n",
       "       '2051105513895456896', '2051105479535690112', '2051105406514989312',\n",
       "       '2051105513895457664', '2051105479530816256', '2051105410811369728',\n",
       "       '2051105445171164928', '2051105513895452928', '2051105479531687936',\n",
       "       '2051105410816218368', '2051105509593807616', '2051105440876663936',\n",
       "       '2051105685694143104', '2051105406516922240', '2051105513895463040',\n",
       "       '2051105410811351168', '2051105479535685632', '2051105685689321856',\n",
       "       '2051105509596144768', '2051105681392498816', '2051105475234372736',\n",
       "       '2051105685689321984', '2051105479535690240', '2051105513890653440',\n",
       "       '2051105410816809600', '2051105406525636608', '2051105681394844416',\n",
       "       '2051105720053886592', '2051105479535688832', '2051105410816215552',\n",
       "       '2051105685694135424', '2051105410811376640', '2051105475236397952',\n",
       "       '2051105509596146304', '2051105475236391808', '2051105685694119424',\n",
       "       '2051105681403487872', '2051105685694131712'],\n",
       "      dtype='object', name='GaiaID')"
      ]
     },
     "execution_count": 8,
     "metadata": {},
     "output_type": "execute_result"
    }
   ],
   "source": [
    "next(wocs_63060.inrad) # To view individual neighbors, add a subscript to this command and use as key of stardict"
   ]
  },
  {
   "cell_type": "code",
   "execution_count": 9,
   "metadata": {
    "collapsed": false,
    "scrolled": true
   },
   "outputs": [
    {
     "name": "stdout",
     "output_type": "stream",
     "text": [
      "CPU times: user 3 µs, sys: 1e+03 ns, total: 4 µs\n",
      "Wall time: 5.72 µs\n",
      "{\n",
      "    \"ID\": \"2051105479535706752\",\n",
      "    \"ra\": 290.294601905,\n",
      "    \"dec\": 37.7587177584,\n",
      "    \"Gaia_mag\": 15.57,\n",
      "    \"BP_mag\": 15.82,\n",
      "    \"BP_RP\": 0.63,\n",
      "    \"BP_G\": 0.24,\n",
      "    \"G_RP\": 0.38,\n",
      "    \"ndet\": 4193,\n",
      "    \"mintime\": 443.9396820654948,\n",
      "    \"maxtime\": 537.631896822495,\n",
      "    \"timelength\": 93.69221475700022,\n",
      "    \"amplitude\": 0.013280683970898544,\n",
      "    \"ndetobslength_ratio\": 44.752917954548835,\n",
      "    \"linear_fit_slope\": 15.58231711883195,\n",
      "    \"magnitude_ratio\": 0.5251439251941965,\n",
      "    \"median\": 15.58328681960397,\n",
      "    \"wmean\": 15.583250769783442,\n",
      "    \"mad\": 0.0027228738707734124,\n",
      "    \"stdev\": 0.004038021950356971,\n",
      "    \"skew\": -0.053266806987786824,\n",
      "    \"kurtosis\": -0.2584735886194469,\n",
      "    \"beyond1std\": 0.30932506558549966,\n",
      "    \"mag_iqr\": 0.0054423651105395265,\n",
      "    \"eta_normal\": 0.42793365298731,\n",
      "    \"eta_robust\": 0.02379123588671188,\n",
      "    \"eta_uneven_normal\": 8544101.59558457,\n",
      "    \"eta_uneven_robust\": 2560938536.6056404,\n",
      "    \"flux_median\": 5.843664475212692e-07,\n",
      "    \"flux_percent_amplitude\": 1.011684580464984,\n",
      "    \"flux_percentile_ratio_mid20\": 0.16306612255155012,\n",
      "    \"flux_percentile_ratio_mid35\": 0.28438091175589497,\n",
      "    \"flux_percentile_ratio_mid50\": 0.4245381216907849,\n",
      "    \"flux_percentile_ratio_mid65\": 0.5862313317912684,\n",
      "    \"flux_percentile_ratio_mid80\": 0.7989420152224581,\n",
      "    \"percent_difference_flux_percentile\": 4.819646730761635\n",
      "}\n"
     ]
    }
   ],
   "source": [
    "%time\n",
    "\n",
    "print(wocs_63060.export_features(dump=False))"
   ]
  },
  {
   "cell_type": "code",
   "execution_count": 10,
   "metadata": {
    "collapsed": false
   },
   "outputs": [
    {
     "data": {
      "text/plain": [
       "{'bestperiod': 0.7232568175965727,\n",
       " 'bestlspval': 0.0022862207155785073,\n",
       " 'nbestpeaks': 3,\n",
       " 'nbestlspvals': [0.0022862207155785073,\n",
       "  0.0017773305459861596,\n",
       "  0.0016532705431525291],\n",
       " 'nbestperiods': [0.7232568175965727, 1.446434238504079, 2.890431587000283],\n",
       " 'lspvals': array([0.00041692, 0.00040709, 0.00036966, ..., 0.00012153, 0.00012424,\n",
       "        0.0001589 ]),\n",
       " 'frequencies': array([ 0.05      ,  0.05002668,  0.05005337, ..., 23.80944475,\n",
       "        23.80947143, 23.80949812]),\n",
       " 'periods': array([20.        , 19.98933245, 19.97867627, ...,  0.04200014,\n",
       "         0.04200009,  0.04200005]),\n",
       " 'blsresult': [{'power': array([0.00041692, 0.00040709, 0.00036966, ..., 0.00010594, 0.00010037,\n",
       "          0.00010365]),\n",
       "   'bestperiod': 0.7232568175965727,\n",
       "   'bestpower': 0.0022862207155785073,\n",
       "   'transdepth': 0.004650078717658983,\n",
       "   'transduration': 0.4090150250417362,\n",
       "   'transingressbin': 52,\n",
       "   'transegressbin': 133},\n",
       "  {'power': array([0.00011619, 0.00010679, 0.00011058, ..., 0.00012153, 0.00012424,\n",
       "          0.0001589 ]),\n",
       "   'bestperiod': 0.042057595461007756,\n",
       "   'bestpower': 0.0014114726918788996,\n",
       "   'transdepth': 0.0035327957822705934,\n",
       "   'transduration': 0.19937991891247317,\n",
       "   'transingressbin': 134,\n",
       "   'transegressbin': 173}],\n",
       " 'stepsize': 2.668311349543813e-05,\n",
       " 'nfreq': 890433,\n",
       " 'nphasebins': 200,\n",
       " 'mintransitduration': 0.01,\n",
       " 'maxtransitduration': 0.4,\n",
       " 'method': 'bls',\n",
       " 'kwargs': {'startp': 0.042,\n",
       "  'endp': 20.0,\n",
       "  'stepsize': 2.668311349543813e-05,\n",
       "  'mintransitduration': 0.01,\n",
       "  'maxtransitduration': 0.4,\n",
       "  'nphasebins': 200,\n",
       "  'autofreq': True,\n",
       "  'periodepsilon': 0.1,\n",
       "  'nbestpeaks': 3,\n",
       "  'sigclip': 5.0,\n",
       "  'magsarefluxes': False},\n",
       " 'stats': [{'period': 4.859980113264598,\n",
       "   'epoch': 444.79193511694655,\n",
       "   'snr': 1.417889129258335e-08,\n",
       "   'transitdepth': -3.1925322361789814e-11,\n",
       "   'transitduration': 0.0005863973145703646,\n",
       "   'ingressduration': 0.4944985138343129,\n",
       "   'npoints_in_transit': 3,\n",
       "   'fitparams': array([ 4.85998011e+00,  4.44791935e+02, -3.19253224e-11,  5.86397315e-04,\n",
       "           4.94498514e-01]),\n",
       "   'fiterrs': array([0.00000000e+00, 2.05511946e+07, 1.19269858e+01, 0.00000000e+00,\n",
       "          0.00000000e+00]),\n",
       "   'fit_status': 'ok',\n",
       "   'nphasebins': 200,\n",
       "   'transingressbin': 52,\n",
       "   'transegressbin': 133,\n",
       "   'blsmodel': array([15.58328682, 15.58328682, 15.58328682, ..., 15.58328682,\n",
       "          15.58328682, 15.58328682]),\n",
       "   'subtractedmags': array([-0.00179828, -0.00587759,  0.00090354, ...,  0.00609784,\n",
       "          -0.00357656, -0.00125927]),\n",
       "   'phasedmags': array([15.58148854, 15.57740923, 15.58419035, ..., 15.58938466,\n",
       "          15.57971026, 15.58202755]),\n",
       "   'phases': array([6.24511463e-04, 6.49215043e-04, 1.23307238e-03, ...,\n",
       "          9.99853708e-01, 9.99914345e-01, 9.99949460e-01]),\n",
       "   'fitinfo': {'fittype': 'traptransit',\n",
       "    'fitinfo': {'initialparams': [0.7232515444429922,\n",
       "      473.20192932133057,\n",
       "      -0.004650129707682668,\n",
       "      0.4090150250417362,\n",
       "      0.040901502504173626],\n",
       "     'finalparams': array([ 4.85998011e+00,  4.44791935e+02, -3.19253224e-11,  5.86397315e-04,\n",
       "             4.94498514e-01]),\n",
       "     'finalparamerrs': array([0.00000000e+00, 2.05511946e+07, 1.19269858e+01, 0.00000000e+00,\n",
       "            0.00000000e+00]),\n",
       "     'fitmags': array([15.58328682, 15.58328682, 15.58328682, ..., 15.58328682,\n",
       "            15.58328682, 15.58328682]),\n",
       "     'fitepoch': 444.79193511694655,\n",
       "     'ntransitpoints': 3},\n",
       "    'fitchisq': 139.9559117694476,\n",
       "    'fitredchisq': 0.033418317041415374,\n",
       "    'fitplotfile': None,\n",
       "    'magseries': {'phase': array([6.24511463e-04, 6.49215043e-04, 1.23307238e-03, ...,\n",
       "            9.99853708e-01, 9.99914345e-01, 9.99949460e-01]),\n",
       "     'times': array([498.25475148, 527.41475221, 444.79792782, ..., 464.23114459,\n",
       "            493.39131997, 522.5513713 ]),\n",
       "     'mags': array([15.58148854, 15.57740923, 15.58419035, ..., 15.58938466,\n",
       "            15.57971026, 15.58202755]),\n",
       "     'errs': array([0.01409, 0.13573, 0.01737, ..., 0.02293, 0.01259, 0.05991]),\n",
       "     'magsarefluxes': False}}},\n",
       "  {'period': 1.4465211466901031,\n",
       "   'epoch': 490.91901784641806,\n",
       "   'snr': 21.161086701603313,\n",
       "   'transitdepth': -0.0025939778218723427,\n",
       "   'transitduration': 0.2247795225204866,\n",
       "   'ingressduration': 0.08266388062009018,\n",
       "   'npoints_in_transit': 944,\n",
       "   'fitparams': array([ 1.44652115e+00,  4.90919018e+02, -2.59397782e-03,  2.24779523e-01,\n",
       "           8.26638806e-02]),\n",
       "   'fiterrs': array([0.00046924, 0.00796166, 0.00025473, 0.018928  , 0.01812663]),\n",
       "   'fit_status': 'ok',\n",
       "   'nphasebins': 200,\n",
       "   'transingressbin': 175,\n",
       "   'transegressbin': 18,\n",
       "   'blsmodel': array([15.5858808, 15.5858808, 15.5858808, ..., 15.5858808, 15.5858808,\n",
       "          15.5858808]),\n",
       "   'subtractedmags': array([ 0.00245731,  0.00103426, -0.00215523, ..., -0.00199128,\n",
       "           0.00213522,  0.00505582]),\n",
       "   'phasedmags': array([15.58833811, 15.58691505, 15.58372557, ..., 15.58388951,\n",
       "          15.58801601, 15.59093662]),\n",
       "   'phases': array([1.82958321e-04, 2.19130713e-04, 6.60291876e-04, ...,\n",
       "          9.99355629e-01, 9.99364148e-01, 9.99803449e-01]),\n",
       "   'fitinfo': {'fittype': 'traptransit',\n",
       "    'fitinfo': {'initialparams': [1.446402998605569,\n",
       "      490.9187335313037,\n",
       "      -0.004274215251431467,\n",
       "      0.2222752206057715,\n",
       "      0.022227522060577154],\n",
       "     'finalparams': array([ 1.44652115e+00,  4.90919018e+02, -2.59397782e-03,  2.24779523e-01,\n",
       "             8.26638806e-02]),\n",
       "     'finalparamerrs': array([0.00046924, 0.00796166, 0.00025473, 0.018928  , 0.01812663]),\n",
       "     'fitmags': array([15.5858808, 15.5858808, 15.5858808, ..., 15.5858808, 15.5858808,\n",
       "            15.5858808]),\n",
       "     'fitepoch': 490.91901784641806,\n",
       "     'ntransitpoints': 944},\n",
       "    'fitchisq': 133.3262320317035,\n",
       "    'fitredchisq': 0.03183529895694926,\n",
       "    'fitplotfile': None,\n",
       "    'magseries': {'phase': array([1.82958321e-04, 2.19130713e-04, 6.60291876e-04, ...,\n",
       "            9.99355629e-01, 9.99364148e-01, 9.99803449e-01]),\n",
       "     'times': array([518.40318429, 470.66803877, 498.15257871, ..., 511.1693818 ,\n",
       "            463.43419629, 490.91873353]),\n",
       "     'mags': array([15.58833811, 15.58691505, 15.58372557, ..., 15.58388951,\n",
       "            15.58801601, 15.59093662]),\n",
       "     'errs': array([0.0495 , 0.02501, 0.01644, ..., 0.03641, 0.02177, 0.01535]),\n",
       "     'magsarefluxes': False}}},\n",
       "  {'period': 2.895034813275474,\n",
       "   'epoch': 488.7730097346033,\n",
       "   'snr': 16.86854054272264,\n",
       "   'transitdepth': -0.002807428887709081,\n",
       "   'transitduration': 0.12297455258285434,\n",
       "   'ingressduration': 0.03336115176698037,\n",
       "   'npoints_in_transit': 526,\n",
       "   'fitparams': array([ 2.89503481e+00,  4.88773010e+02, -2.80742889e-03,  1.22974553e-01,\n",
       "           3.33611518e-02]),\n",
       "   'fiterrs': array([0.001126  , 0.00883948, 0.00025544, 0.01097957, 0.00979326]),\n",
       "   'fit_status': 'ok',\n",
       "   'nphasebins': 200,\n",
       "   'transingressbin': 189,\n",
       "   'transegressbin': 10,\n",
       "   'blsmodel': array([15.58609425, 15.58609425, 15.58609425, ..., 15.58609425,\n",
       "          15.58609425, 15.58609425]),\n",
       "   'subtractedmags': array([ 0.00199508,  0.0009747 , -0.0032122 , ..., -0.00106201,\n",
       "          -0.00204351,  0.00397169]),\n",
       "   'phasedmags': array([15.58808933, 15.58706895, 15.58288205, ..., 15.58503224,\n",
       "          15.58405074, 15.59006594]),\n",
       "   'phases': array([3.11460483e-05, 1.67299096e-04, 3.05148259e-04, ...,\n",
       "          9.99596394e-01, 9.99748490e-01, 9.99892525e-01]),\n",
       "   'fitinfo': {'fittype': 'traptransit',\n",
       "    'fitinfo': {'initialparams': [2.8908135369790506,\n",
       "      488.7322307943977,\n",
       "      -0.00529192272394521,\n",
       "      0.10994514667302648,\n",
       "      0.010994514667302648],\n",
       "     'finalparams': array([ 2.89503481e+00,  4.88773010e+02, -2.80742889e-03,  1.22974553e-01,\n",
       "             3.33611518e-02]),\n",
       "     'finalparamerrs': array([0.001126  , 0.00883948, 0.00025544, 0.01097957, 0.00979326]),\n",
       "     'fitmags': array([15.58609425, 15.58609425, 15.58609425, ..., 15.58609425,\n",
       "            15.58609425, 15.58609425]),\n",
       "     'fitepoch': 488.7730097346033,\n",
       "     'ntransitpoints': 526},\n",
       "    'fitchisq': 134.47410665224703,\n",
       "    'fitredchisq': 0.032109385542561375,\n",
       "    'fitplotfile': None,\n",
       "    'magseries': {'phase': array([3.11460483e-05, 1.67299096e-04, 3.05148259e-04, ...,\n",
       "            9.99596394e-01, 9.99748490e-01, 9.99892525e-01]),\n",
       "     'times': array([488.7730999 , 480.08838963, 471.40368427, ..., 514.8271546 ,\n",
       "            506.14249048, 497.45780303]),\n",
       "     'mags': array([15.58808933, 15.58706895, 15.58288205, ..., 15.58503224,\n",
       "            15.58405074, 15.59006594]),\n",
       "     'errs': array([0.0176 , 0.02479, 0.02497, ..., 0.04214, 0.02603, 0.01338]),\n",
       "     'magsarefluxes': False}}}],\n",
       " 'nbestpeakratios': [array([441.05475282]), array([710.80925192]), nan],\n",
       " 'siderealflags': [True, False, False]}"
      ]
     },
     "execution_count": 10,
     "metadata": {},
     "output_type": "execute_result"
    }
   ],
   "source": [
    "wocs_63060.RLC.BLS"
   ]
  },
  {
   "cell_type": "code",
   "execution_count": 11,
   "metadata": {
    "collapsed": true
   },
   "outputs": [],
   "source": [
    "wocs_63060.export_features(dump=True, per_period=True)"
   ]
  },
  {
   "cell_type": "code",
   "execution_count": 12,
   "metadata": {
    "collapsed": false
   },
   "outputs": [
    {
     "data": {
      "text/plain": [
       "{'bestperiod': 0.723577992960771,\n",
       " 'bestlspval': 0.5791194854549672,\n",
       " 'nbestpeaks': 3,\n",
       " 'nbestlspvals': [0.5791194854549672, 0.5902022453101254, 0.6101459834672595],\n",
       " 'nbestperiods': [0.723577992960771,\n",
       "  0.042058114647552214,\n",
       "  0.05962019234347414],\n",
       " 'lspvals': array([0.99817542, 0.99878871, 1.00148138, ..., 1.00136805, 0.9988669 ,\n",
       "        0.99982351]),\n",
       " 'periods': array([20.        , 19.18110158, 18.42662489, ...,  0.04200908,\n",
       "         0.04200532,  0.04200155]),\n",
       " 'method': 'pdm',\n",
       " 'kwargs': {'startp': 0.042,\n",
       "  'endp': 20.0,\n",
       "  'stepsize': 0.001,\n",
       "  'normalize': False,\n",
       "  'phasebinsize': 0.05,\n",
       "  'mindetperbin': 9,\n",
       "  'autofreq': True,\n",
       "  'periodepsilon': 0.1,\n",
       "  'nbestpeaks': 3,\n",
       "  'sigclip': 5.0},\n",
       " 'nbestpeakratios': [array([432.64828698]),\n",
       "  array([302.63924871]),\n",
       "  array([310.72960856])],\n",
       " 'siderealflags': [True, True, True]}"
      ]
     },
     "execution_count": 12,
     "metadata": {},
     "output_type": "execute_result"
    }
   ],
   "source": [
    "wocs_63060.RLC.Stwf"
   ]
  },
  {
   "cell_type": "code",
   "execution_count": null,
   "metadata": {
    "collapsed": true
   },
   "outputs": [],
   "source": [
    "MakeStardict(export_all=True, cluster='ngc6791')"
   ]
  },
  {
   "cell_type": "code",
   "execution_count": null,
   "metadata": {
    "collapsed": true
   },
   "outputs": [],
   "source": [
    "stardict"
   ]
  },
  {
   "cell_type": "code",
   "execution_count": null,
   "metadata": {
    "collapsed": true
   },
   "outputs": [],
   "source": [
    "a={'a':1, 'b':2}\n",
    "dd={**a, 'v':100}\n",
    "\n",
    "type(np.nan)"
   ]
  },
  {
   "cell_type": "code",
   "execution_count": null,
   "metadata": {
    "collapsed": true
   },
   "outputs": [],
   "source": []
  }
 ],
 "metadata": {
  "kernelspec": {
   "display_name": "Python 3",
   "language": "python",
   "name": "python3"
  },
  "language_info": {
   "codemirror_mode": {
    "name": "ipython",
    "version": 3
   },
   "file_extension": ".py",
   "mimetype": "text/x-python",
   "name": "python",
   "nbconvert_exporter": "python",
   "pygments_lexer": "ipython3",
   "version": "3.5.1"
  }
 },
 "nbformat": 4,
 "nbformat_minor": 5
}
